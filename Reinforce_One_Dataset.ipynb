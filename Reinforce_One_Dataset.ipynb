{
 "cells": [
  {
   "cell_type": "code",
   "execution_count": 1,
   "outputs": [],
   "source": [
    "import torch\n",
    "import numpy as np\n",
    "from pandas import DataFrame\n",
    "from sklearn.model_selection import train_test_split\n",
    "from torch import nn\n",
    "from NetworkFeatureExtration.src.ModelWithRows import ModelWithRows\n",
    "from main import init_conf_values, load_models_path\n",
    "from src.A2C_Agent_Reinforce import A2C_Agent_Reinforce\n",
    "import os\n",
    "import shutil  \n",
    "import split_folders\n",
    "from NetworkFeatureExtration.src.ModelClasses.NetX.netX import NetX\n",
    "from src.NetworkEnv import NetworkEnv"
   ],
   "metadata": {
    "collapsed": false,
    "pycharm": {
     "name": "#%%\n",
     "is_executing": false
    }
   }
  },
  {
   "cell_type": "code",
   "execution_count": 2,
   "outputs": [],
   "source": [
    "torch.manual_seed(0)\n",
    "np.random.seed(0)\n",
    "base_path = './OneDatasetLearning/Classification/diabetes/'"
   ],
   "metadata": {
    "collapsed": false,
    "pycharm": {
     "name": "#%%\n",
     "is_executing": false
    }
   }
  },
  {
   "cell_type": "code",
   "execution_count": 3,
   "outputs": [],
   "source": [
    "# models_path = load_models_path(base_path, 'all')\n",
    "# all_models = models_path[0][1]\n",
    "# all_models = list(map(os.path.basename, all_models))\n",
    "# train_models, test_models = train_test_split(all_models, test_size=0.2)\n",
    "# \n",
    "# df_train = DataFrame(data = train_models)\n",
    "# df_train.to_csv(base_path + \"train_models.csv\")\n",
    "# \n",
    "# df_test = DataFrame(data = test_models)\n",
    "# df_test.to_csv(base_path + \"test_models.csv\")"
   ],
   "metadata": {
    "collapsed": false,
    "pycharm": {
     "name": "#%%\n",
     "is_executing": false
    }
   }
  },
  {
   "cell_type": "code",
   "execution_count": 4,
   "metadata": {
    "collapsed": true,
    "pycharm": {
     "is_executing": false
    }
   },
   "outputs": [
    {
     "name": "stdout",
     "text": [
      "Episode 0/100\n",
      "Episode 1/100\n",
      "Episode 2/100\n",
      "Episode 3/100\n",
      "Episode 4/100\n",
      "Episode 5/100\n",
      "Episode 6/100\n",
      "Episode 7/100\n",
      "Episode 8/100\n",
      "Episode 9/100\n",
      "Episode 10/100\n",
      "Episode 11/100\n",
      "Episode 12/100\n",
      "Episode 13/100\n",
      "Episode 14/100\n",
      "Episode 15/100\n",
      "Episode 16/100\n",
      "Episode 17/100\n",
      "Episode 18/100\n",
      "Episode 19/100\n",
      "Episode 20/100\n",
      "Episode 21/100\n",
      "Episode 22/100\n",
      "Episode 23/100\n",
      "Episode 24/100\n",
      "Episode 25/100\n",
      "Episode 26/100\n",
      "Episode 27/100\n",
      "Episode 28/100\n",
      "Episode 29/100\n",
      "Episode 30/100\n",
      "Episode 31/100\n",
      "Episode 32/100\n",
      "Episode 33/100\n",
      "Episode 34/100\n",
      "Episode 35/100\n",
      "Episode 36/100\n",
      "Episode 37/100\n",
      "Episode 38/100\n",
      "Episode 39/100\n",
      "Episode 40/100\n",
      "Episode 41/100\n",
      "Episode 42/100\n",
      "Episode 43/100\n",
      "Episode 44/100\n",
      "Episode 45/100\n",
      "Episode 46/100\n",
      "Episode 47/100\n",
      "Episode 48/100\n",
      "Episode 49/100\n",
      "Episode 50/100\n",
      "Episode 51/100\n",
      "Episode 52/100\n",
      "Episode 53/100\n",
      "Episode 54/100\n",
      "Episode 55/100\n",
      "Episode 56/100\n",
      "Episode 57/100\n",
      "Episode 58/100\n",
      "Episode 59/100\n",
      "Episode 60/100\n",
      "Episode 61/100\n",
      "Episode 62/100\n",
      "Episode 63/100\n",
      "Episode 64/100\n",
      "Episode 65/100\n",
      "Episode 66/100\n",
      "Episode 67/100\n",
      "Episode 68/100\n",
      "Episode 69/100\n",
      "Episode 70/100\n",
      "Episode 71/100\n",
      "Episode 72/100\n",
      "Episode 73/100\n",
      "Episode 74/100\n",
      "Episode 75/100\n",
      "Episode 76/100\n",
      "Episode 77/100\n",
      "Episode 78/100\n",
      "Episode 79/100\n",
      "Episode 80/100\n",
      "Episode 81/100\n",
      "Episode 82/100\n",
      "Episode 83/100\n",
      "Episode 84/100\n",
      "Episode 85/100\n",
      "Episode 86/100\n",
      "Episode 87/100\n",
      "Episode 88/100\n",
      "Episode 89/100\n",
      "Episode 90/100\n",
      "Episode 91/100\n",
      "Episode 92/100\n",
      "Episode 93/100\n",
      "Episode 94/100\n",
      "Episode 95/100\n",
      "Episode 96/100\n",
      "Episode 97/100\n",
      "Episode 98/100\n",
      "Episode 99/100\n"
     ],
     "output_type": "stream"
    }
   ],
   "source": [
    "\n",
    "\n",
    "init_conf_values()\n",
    "models_path = load_models_path(base_path, 'train')\n",
    "agent = A2C_Agent_Reinforce(models_path)\n",
    "agent.train()"
   ]
  },
  {
   "cell_type": "code",
   "execution_count": null,
   "outputs": [],
   "source": [
    "torch.save(agent.actor_model.state_dict(), \"./models/Reinforce_One_Dataset/actor_model.pt\")\n",
    "torch.save(agent.critic_model.state_dict(), \"./models/Reinforce_One_Dataset/critic_model.pt\")\n"
   ],
   "metadata": {
    "collapsed": false,
    "pycharm": {
     "name": "#%%\n",
     "is_executing": false
    }
   }
  },
  {
   "cell_type": "code",
   "execution_count": 5,
   "outputs": [],
   "source": [
    "def get_linear_layer(row):\n",
    "    for l in row:\n",
    "        if type(l) is nn.Linear:\n",
    "            return l\n",
    "\n",
    "def get_model_layers(model):\n",
    "    new_model_with_rows = ModelWithRows(model)\n",
    "    linear_layers = [(get_linear_layer(x).in_features, get_linear_layer(x).out_features) for x in new_model_with_rows.all_rows]\n",
    "    return str(linear_layers)"
   ],
   "metadata": {
    "collapsed": false,
    "pycharm": {
     "name": "#%%\n",
     "is_executing": false
    }
   }
  },
  {
   "cell_type": "code",
   "execution_count": 8,
   "outputs": [
    {
     "name": "stdout",
     "text": [
      "0\n",
      "1\n",
      "2\n",
      "3\n",
      "4\n",
      "5\n",
      "6\n",
      "7\n",
      "8\n",
      "9\n",
      "10\n",
      "11\n",
      "12\n",
      "13\n",
      "14\n",
      "15\n",
      "16\n",
      "17\n",
      "18\n",
      "19\n",
      "20\n",
      "21\n",
      "22\n",
      "23\n"
     ],
     "output_type": "stream"
    }
   ],
   "source": [
    "mode = 'train'\n",
    "models_path = load_models_path(base_path, mode)\n",
    "env = NetworkEnv(models_path)\n",
    "action_to_compression = {\n",
    "    0: 0.9,\n",
    "    1: 0.8,\n",
    "    2: 0.7,\n",
    "    3: 0.6\n",
    "}\n",
    "\n",
    "\n",
    "results = DataFrame(columns=['model', 'new_acc', 'origin_acc', 'new_param',\n",
    "                             'origin_param', 'new_model_arch', 'origin_model_arch'])\n",
    "\n",
    "for i in range(len(env.all_networks)):\n",
    "    print(i)\n",
    "    state = env.reset()\n",
    "    done = False\n",
    "\n",
    "    while not done:\n",
    "        value = agent.critic_model(state)\n",
    "        dist = agent.actor_model(state)\n",
    "    \n",
    "        action = dist.sample()\n",
    "        compression_rate = action_to_compression[action.cpu().numpy()[0]]\n",
    "        next_state, reward, done = env.step(compression_rate)\n",
    "        state = next_state\n",
    "        \n",
    "    new_lh = env.create_learning_handler(env.current_model)\n",
    "    origin_lh = env.create_learning_handler(env.loaded_model.model)\n",
    "    \n",
    "    new_acc = new_lh.evaluate_model()\n",
    "    origin_acc = origin_lh.evaluate_model()\n",
    "    \n",
    "    new_params = env.calc_num_parameters(env.current_model)\n",
    "    origin_params = env.calc_num_parameters(env.loaded_model.model)\n",
    "    \n",
    "    model_name = env.all_networks[env.net_order[env.curr_net_index - 1]][1]\n",
    "    \n",
    "    new_model_with_rows = ModelWithRows(env.current_model)\n",
    "    \n",
    "    \n",
    "    results = results.append({'model':model_name,\n",
    "                              'new_acc': new_acc,\n",
    "                              'origin_acc': origin_acc,\n",
    "                              'new_param': new_params,\n",
    "                              'origin_param':origin_params,\n",
    "                              'new_model_arch': get_model_layers(env.current_model),\n",
    "                              'origin_model_arch': get_model_layers(env.loaded_model.model)}, ignore_index=True)\n"
   ],
   "metadata": {
    "collapsed": false,
    "pycharm": {
     "name": "#%%\n",
     "is_executing": false
    }
   }
  },
  {
   "cell_type": "code",
   "execution_count": 9,
   "outputs": [],
   "source": [
    "results.to_csv(\"./models/Reinforce_One_Dataset/results_{}5.csv\".format(mode))\n"
   ],
   "metadata": {
    "collapsed": false,
    "pycharm": {
     "name": "#%%\n",
     "is_executing": false
    }
   }
  },
  {
   "cell_type": "code",
   "execution_count": 11,
   "outputs": [
    {
     "data": {
      "text/plain": "<Figure size 432x288 with 1 Axes>",
      "image/png": "[encoded data removed]"
     },
     "metadata": {
      "needs_background": "light"
     },
     "output_type": "display_data"
    }
   ],
   "source": [
    "import matplotlib.pyplot as plt\n",
    "p = np.arange(0,1,0.01)\n",
    "\n",
    "y = p * (2-p)\n",
    "\n",
    "plt.plot(p,y)\n",
    "plt.show()\n",
    "\n"
   ],
   "metadata": {
    "collapsed": false,
    "pycharm": {
     "name": "#%%\n",
     "is_executing": false
    }
   }
  }
 ],
 "metadata": {
  "kernelspec": {
   "display_name": "Python 3",
   "language": "python",
   "name": "python3"
  },
  "language_info": {
   "codemirror_mode": {
    "name": "ipython",
    "version": 2
   },
   "file_extension": ".py",
   "mimetype": "text/x-python",
   "name": "python",
   "nbconvert_exporter": "python",
   "pygments_lexer": "ipython2",
   "version": "2.7.6"
  },
  "pycharm": {
   "stem_cell": {
    "cell_type": "raw",
    "source": [],
    "metadata": {
     "collapsed": false
    }
   }
  }
 },
 "nbformat": 4,
 "nbformat_minor": 0
}